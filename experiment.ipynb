{
 "cells": [
  {
   "cell_type": "code",
   "execution_count": 9,
   "metadata": {},
   "outputs": [],
   "source": [
    "import json\n",
    "import warnings\n",
    "import gradio as gr\n",
    "import pandas as pd\n",
    "import numpy as np\n",
    "import matplotlib.pyplot as plt\n",
    "\n",
    "plt.rcParams[\"font.sans-serif\"] = [\"SimHei\"]\n",
    "plt.rcParams[\"axes.unicode_minus\"] = False\n",
    "\n",
    "warnings.filterwarnings(\"ignore\", category=UserWarning)\n",
    "\n",
    "DEFAULT_DATA = pd.read_excel(\"course.xlsx\").values.tolist()\n",
    "\n",
    "with open(\"config.json\", \"r\") as jsonfile:\n",
    "    config = json.load(jsonfile)\n"
   ]
  },
  {
   "cell_type": "code",
   "execution_count": 10,
   "metadata": {},
   "outputs": [
    {
     "name": "stdout",
     "output_type": "stream",
     "text": [
      "Running on local URL:  http://127.0.0.1:7865\n",
      "\n",
      "Could not create share link. Please check your internet connection or our status page: https://status.gradio.app.\n"
     ]
    },
    {
     "name": "stderr",
     "output_type": "stream",
     "text": [
      "2025/02/27 22:46:26 [W] [service.go:132] login to server failed: i/o deadline reached\n"
     ]
    },
    {
     "data": {
      "text/html": [
       "<div><iframe src=\"http://127.0.0.1:7865/\" width=\"100%\" height=\"500\" allow=\"autoplay; camera; microphone; clipboard-read; clipboard-write;\" frameborder=\"0\" allowfullscreen></iframe></div>"
      ],
      "text/plain": [
       "<IPython.core.display.HTML object>"
      ]
     },
     "metadata": {},
     "output_type": "display_data"
    },
    {
     "name": "stderr",
     "output_type": "stream",
     "text": [
      "C:\\Users\\wwl\\AppData\\Local\\Temp\\ipykernel_28784\\2835334346.py:6: FutureWarning: Downcasting behavior in `replace` is deprecated and will be removed in a future version. To retain the old behavior, explicitly call `result.infer_objects(copy=False)`. To opt-in to the future behavior, set `pd.set_option('future.no_silent_downcasting', True)`\n",
      "  df.replace(\"\", np.nan, inplace=True)\n"
     ]
    }
   ],
   "source": [
    "\n",
    "\n",
    "def process_data(input_data):\n",
    "    \n",
    "    # 将输入的表格数据转换为 DataFrame\n",
    "    df = pd.DataFrame(input_data)\n",
    "    # 把\"\"转换为np.nan\n",
    "    df.replace(\"\", np.nan, inplace=True)\n",
    "    # 如果输入数据部分有空缺，则使用对应位置的默认数据\n",
    "    # ? gradio第二次启动时，会自动去除之前所有的默认数据，所以这里必须手动填充\n",
    "    for i in range(len(DEFAULT_DATA)):\n",
    "        for j in range(len(DEFAULT_DATA[i])):\n",
    "            if not df.iloc[i, j]:\n",
    "                df.iloc[i, j] = DEFAULT_DATA[i][j]\n",
    "    \n",
    "    df = df.dropna()\n",
    "    df[\"原始成绩\"] = df[\"原始成绩\"].astype(float)\n",
    "    df[\"学分\"] = df[\"学分\"].astype(float)\n",
    "\n",
    "    mean_score = np.dot(df[\"原始成绩\"], df[\"学分\"]) / df[\"学分\"].sum()\n",
    "    mean_score = np.around(mean_score, config[\"precision\"][\"mean_score\"])\n",
    "\n",
    "    df[\"拉分效益\"] = (df[\"原始成绩\"] - mean_score) * df[\"学分\"]\n",
    "    df[\"拉分效益\"] = df[\"拉分效益\"].round(config[\"precision\"][\"gain\"])\n",
    "    df = df.sort_values(\"拉分效益\", ascending=False)\n",
    "    \n",
    "    # 删除空缺行\n",
    "    df = df.dropna()\n",
    "    df = df.reset_index(drop=True)\n",
    "\n",
    "    fig, (ax1, ax2) = plt.subplots(2, 1, figsize=(8, 8), sharex=True)\n",
    "\n",
    "    ax1.bar(df[\"课程名称\"], df[\"原始成绩\"], color=config[\"color\"][\"score\"], width=0.5)\n",
    "    ax1.axhline(\n",
    "        y=mean_score,\n",
    "        color=\"red\",\n",
    "        linestyle=\"--\",\n",
    "        linewidth=2,\n",
    "        label=f\"平均分: {mean_score:.2f}\",\n",
    "    )\n",
    "    ax1.set_title(\"原始成绩\", fontsize=14, fontweight=\"bold\")\n",
    "    ax1.set_ylabel(\"成绩\", fontsize=12)\n",
    "    ax1.set_xticklabels(df[\"课程名称\"], rotation=config[\"rotation_x\"], fontsize=10)\n",
    "    ax1.legend(fontsize=10)\n",
    "    # ax1.grid(axis=\"y\", linestyle=\"--\", alpha=0.7)\n",
    "    ax1.set_ylim(60, 100)\n",
    "\n",
    "    ax2.bar(df[\"课程名称\"], df[\"拉分效益\"], color=config[\"color\"][\"gain\"], width=0.5)\n",
    "    ax2.axhline(y=0, color=\"red\", linestyle=\"-\", linewidth=2, label=\"基准线: 0\")\n",
    "    ax2.set_title(\"拉分效益\", fontsize=14, fontweight=\"bold\")\n",
    "    ax2.set_xlabel(\"课程名称\", fontsize=12)\n",
    "    ax2.set_ylabel(\"效益\", fontsize=12)\n",
    "    ax2.set_xticklabels(df[\"课程名称\"], rotation=45, fontsize=10)\n",
    "    ax2.legend(fontsize=10)\n",
    "    # ax2.grid(axis=\"y\", linestyle=\"--\", alpha=0.7)\n",
    "    # ax2.set_ylim(-100, 100)\n",
    "\n",
    "    # plt.figure(figsize=(10, 6))\n",
    "    # plt.bar(df[\"课程名称\"], df[\"原始成绩\"], width=0.5)\n",
    "    # plt.bar(df[\"课程名称\"], df[\"拉分效益\"], width=0.5)\n",
    "    # plt.axhline(y=mean_score, color=\"red\", linestyle=\"--\", label=f\"平均分: {mean_score}\")\n",
    "    # # plt.ylim(60, 100)  # y 轴范围\n",
    "    # plt.xlabel(\"课程名称\", fontsize=14)\n",
    "    # plt.ylabel(\"成绩\", fontsize=14)\n",
    "    # plt.title(\"课程成绩柱状图\", fontsize=16)\n",
    "    # plt.xticks(rotation=45, fontsize=12)  # 旋转 x 轴标签，防止重叠\n",
    "    # plt.legend()  # 添加图例\n",
    "    # plt.tight_layout()\n",
    "    \n",
    "    return mean_score, df, plt\n",
    "\n",
    "\n",
    "def main():\n",
    "    demo = gr.Interface(\n",
    "        fn=process_data,\n",
    "        inputs=gr.Dataframe(\n",
    "            headers=[\"课程名称\", \"学分\", \"原始成绩\"],  # 表格的列名\n",
    "            datatype=[\"str\", \"number\", \"number\"],  # 列数据类型\n",
    "            label=\"输入课程、学分和成绩信息\",\n",
    "            interactive=True,\n",
    "            row_count=(18, \"dynamic\"),  # 动态行数，至少4行\n",
    "            col_count=(3, \"fixed\"),  # 固定列数\n",
    "            value=DEFAULT_DATA,\n",
    "        ),\n",
    "        outputs=[\n",
    "            gr.Number(label=\"均分\"),\n",
    "            gr.Dataframe(label=\"分数分析\"),\n",
    "            gr.Plot(label=\"成绩分析图\"),\n",
    "        ],\n",
    "        title=\"均分分析器\",\n",
    "        description=\"输入表格，然后点击提交，即可计算均分和成绩分析。\",\n",
    "        flagging_options=None,  # 禁用 Flag 按钮\n",
    "    )\n",
    "\n",
    "    # 启动界面\n",
    "    demo.launch(share=config[\"share\"])\n",
    "\n",
    "\n",
    "if __name__ == \"__main__\":\n",
    "    main()\n"
   ]
  },
  {
   "cell_type": "code",
   "execution_count": null,
   "metadata": {},
   "outputs": [],
   "source": []
  }
 ],
 "metadata": {
  "kernelspec": {
   "display_name": "score",
   "language": "python",
   "name": "python3"
  },
  "language_info": {
   "codemirror_mode": {
    "name": "ipython",
    "version": 3
   },
   "file_extension": ".py",
   "mimetype": "text/x-python",
   "name": "python",
   "nbconvert_exporter": "python",
   "pygments_lexer": "ipython3",
   "version": "3.9.21"
  }
 },
 "nbformat": 4,
 "nbformat_minor": 2
}
